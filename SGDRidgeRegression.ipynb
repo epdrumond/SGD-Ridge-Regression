{
 "cells": [
  {
   "cell_type": "code",
   "execution_count": 2,
   "metadata": {},
   "outputs": [],
   "source": [
    "#Import libraries\n",
    "import numpy as np\n",
    "import pandas as pd\n",
    "from tqdm import tqdm\n",
    "\n",
    "from sklearn.preprocessing import MinMaxScaler\n",
    "from sklearn.model_selection import KFold\n",
    "from sklearn.metrics import r2_score\n",
    "from sklearn.linear_model import Ridge"
   ]
  },
  {
   "cell_type": "code",
   "execution_count": 46,
   "metadata": {},
   "outputs": [],
   "source": [
    "#Define Ridge Regression class\n",
    "class RidgeRegression:\n",
    "    \n",
    "    def __init__(self, C = 1.0, batch_size = 1, learning_rate = 0.01, max_iter = 1000, tol = 1e-3):\n",
    "        self.C = 1.0 / C\n",
    "        self.batch_size = batch_size\n",
    "        self.lr = learning_rate\n",
    "        self.max_iter = max_iter\n",
    "        self.tol = tol\n",
    "    \n",
    "    def fit(self, xdata, ydata):\n",
    "        if np.size(xdata) == np.size(xdata, 0):\n",
    "            size = 1\n",
    "        else:\n",
    "            size = np.size(xdata, 1)\n",
    "        \n",
    "        #self.batch_size = xdata.shape[0]\n",
    "        self.coef = np.random.random(size + 1)\n",
    "        \n",
    "        for it in range(self.max_iter):\n",
    "            #x_batch, y_batch = xdata, ydata \n",
    "            x_batch, y_batch = self.__get_batch(xdata, ydata)\n",
    "            error = self.__loss_function(x_batch, y_batch)\n",
    "            if np.max(abs(error)) > self.tol:\n",
    "                self.__update_coef(x_batch, error)\n",
    "            else:\n",
    "                break\n",
    "            \n",
    "    def predict(self, xdata):\n",
    "        x_pred = np.c_[np.ones(xdata.shape[0]), xdata]\n",
    "        return np.dot(x_pred, self.coef)\n",
    "\n",
    "    def __get_batch(self, xdata, ydata):\n",
    "        batch = np.random.choice(len(xdata),size = self.batch_size, replace = False)\n",
    "        return xdata[batch], ydata[batch]\n",
    "\n",
    "    def __loss_function(self, xdata, ydata):\n",
    "        error = self.predict(xdata) - ydata #+ np.dot(self.C, self.coef)        \n",
    "        return 2 * error\n",
    "    \n",
    "    def __update_coef(self, x_batch, error):\n",
    "        x = np.c_[np.ones(x_batch.shape[0]), x_batch]\n",
    "        self.coef += -self.lr * ((np.dot(x.T, error) + 2 * self.C * self.coef)  / self.batch_size)\n",
    "\n",
    "    def __to_numpy(self, data):\n",
    "        if type(data) != np.ndarray:\n",
    "          return np.asarray(data)\n",
    "        else:\n",
    "          return data"
   ]
  },
  {
   "cell_type": "code",
   "execution_count": 10,
   "metadata": {},
   "outputs": [],
   "source": [
    "#Define cross-validation function\n",
    "def cross_val(estimator, xdata, ydata, cv):\n",
    "    kf = KFold(n_splits = cv)\n",
    "    score = []\n",
    "    for train_index, test_index in kf.split(xdata):\n",
    "        x_train, x_test = xdata[train_index], xdata[test_index]\n",
    "        y_train, y_test = ydata[train_index], ydata[test_index]\n",
    "        estimator.fit(x_train, y_train)\n",
    "        score.append(r2_score(y_test, estimator.predict(x_test)))\n",
    "    return score"
   ]
  },
  {
   "cell_type": "code",
   "execution_count": 11,
   "metadata": {},
   "outputs": [],
   "source": [
    "#Read dataset\n",
    "xdata = pd.read_csv('airfoil_self_noise.dat', sep = '\\t', header = None)\n",
    "\n",
    "ydata = xdata.iloc[:,5].values\n",
    "#xdata = xdata.iloc[:,:5].values\n",
    "xdata = MinMaxScaler().fit_transform(xdata.iloc[:,:5].values)"
   ]
  },
  {
   "cell_type": "code",
   "execution_count": 47,
   "metadata": {},
   "outputs": [
    {
     "name": "stdout",
     "output_type": "stream",
     "text": [
      "Mean r2 score (Implemented Ridge Regression): 0.395\n"
     ]
    }
   ],
   "source": [
    "#Cross-validate implemented algorithm\n",
    "score = cross_val(RidgeRegression(max_iter = 50000, \n",
    "                                  learning_rate = 0.01, \n",
    "                                  batch_size = 1200,\n",
    "                                  C = 1.0,\n",
    "                                  tol = 1e-8), xdata, ydata, 10)\n",
    "print('Mean r2 score (Implemented Ridge Regression): %5.3f' %np.mean(score))"
   ]
  },
  {
   "cell_type": "code",
   "execution_count": 29,
   "metadata": {},
   "outputs": [
    {
     "name": "stdout",
     "output_type": "stream",
     "text": [
      "Mean r2 score (SkLearn Ridge Regression): 0.399\n"
     ]
    }
   ],
   "source": [
    "#Cross-validate sklearn Ridge Regression\n",
    "score = cross_val(Ridge(), xdata, ydata, 10)\n",
    "print('Mean r2 score (SkLearn Ridge Regression): %5.3f' %np.mean(score))"
   ]
  }
 ],
 "metadata": {
  "kernelspec": {
   "display_name": "Python 3",
   "language": "python",
   "name": "python3"
  },
  "language_info": {
   "codemirror_mode": {
    "name": "ipython",
    "version": 3
   },
   "file_extension": ".py",
   "mimetype": "text/x-python",
   "name": "python",
   "nbconvert_exporter": "python",
   "pygments_lexer": "ipython3",
   "version": "3.7.3"
  }
 },
 "nbformat": 4,
 "nbformat_minor": 4
}
